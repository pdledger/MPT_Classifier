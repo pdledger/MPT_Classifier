{
 "cells": [
  {
   "cell_type": "code",
   "execution_count": 1,
   "id": "0aad5e36",
   "metadata": {},
   "outputs": [],
   "source": [
    "from time import time\n",
    "import numpy as np\n",
    "from matplotlib import pyplot as plt\n",
    "import os\n",
    "# Please edit this line to provide the to the root directory of your copy of MPT-Calculator\n",
    "Your_Path=r\"/home/paul/Coding/MPT-Calculator-March2024-15/MPT-Calculator\"\n",
    "\n",
    "os.chdir(Your_Path)\n",
    "os.getcwd()\n",
    "#print(os.environ[\"MKL_NUM_THREADS\"])\n",
    "\n",
    "from main import main\n"
   ]
  },
  {
   "cell_type": "code",
   "execution_count": null,
   "id": "02073691",
   "metadata": {
    "scrolled": true
   },
   "outputs": [
    {
     "name": "stdout",
     "output_type": "stream",
     "text": [
      "Solving for order = 0 [0, 1, 2, 3, 4] [4, 4, 3, 2, 1, 2]\n"
     ]
    },
    {
     "data": {
      "application/vnd.jupyter.widget-view+json": {
       "model_id": "69144099f9524cf08d101c39eb78c5ba",
       "version_major": 2,
       "version_minor": 0
      },
      "text/plain": [
       "WebGuiWidget(layout=Layout(height='50vh', width='100%'), value={'ngsolve_version': 'Netgen x.x', 'mesh_dim': 3…"
      ]
     },
     "metadata": {},
     "output_type": "display_data"
    },
    {
     "name": "stdout",
     "output_type": "stream",
     "text": [
      "10.0 0.005947082898819447\n",
      "save mesh\n",
      "Updated alpha from OCC file. Alpha=0.01\n",
      "OCC_Gun_model_nonym_suite_StainSt_dual_len40.geo\n",
      "1 air Steel\n",
      "[0, 1, 2] 3 ['air', 'StainSteel', 'Steel']\n",
      "Mesh Contains Prisms? True\n",
      "N Prisms: 13157, N Tets: 32916\n",
      "1 air Steel\n",
      "[0, 1, 2] 3 ['air', 'StainSteel', 'Steel']\n"
     ]
    },
    {
     "name": "stderr",
     "output_type": "stream",
     "text": [
      "/home/paul/Coding/MPT-Calculator-March2024-15/MPT-Calculator/main.py:279: UserWarning: It looks like the main function was invoked from a jupyter notebook. \n",
      "Currently saving a .ipynb file is done by copying the most recent file in the .ipynb_checkpoints folder. \n",
      "Unless you saved the file before running the code, this may not be the correct file.\n",
      "  warn('It looks like the main function was invoked from a jupyter notebook. \\nCurrently saving a .ipynb file is done by copying the most recent file in the .ipynb_checkpoints folder. \\nUnless you saved the file before running the code, this may not be the correct file.', stacklevel=1)\n"
     ]
    },
    {
     "name": "stdout",
     "output_type": "stream",
     "text": [
      "Running as parallel POD\n",
      " mesh contains 46073 elements\n",
      "Running Bilinear Forms Check\n",
      "Mesh curve order set to:  5\n",
      "K: Iteration 1: bonus_intord = 2\n",
      "K: Iteration 2: bonus_intord = 4\n",
      "K: Iteration 3: bonus_intord = 6\n",
      "No convergence - exit loop and switch to linear geometry\n"
     ]
    },
    {
     "name": "stderr",
     "output_type": "stream",
     "text": [
      "/home/paul/Coding/MPT-Calculator-March2024-15/MPT-Calculator/Functions/PrerunChecks/BilinearForms_Check.py:123: UserWarning: K Bilinear Form did not converge. Trying again with linear geometry.\n",
      "  warnings.warn(\"K Bilinear Form did not converge. Trying again with linear geometry.\")\n"
     ]
    },
    {
     "name": "stdout",
     "output_type": "stream",
     "text": [
      "Running Bilinear Forms Check\n",
      "Mesh curve order set to:  1\n",
      "K: Iteration 1: bonus_intord = 2\n",
      "K: Iteration 2: bonus_intord = 4\n",
      "K: Iteration 3: bonus_intord = 6\n",
      "K Bilinear Form Converged using order 8\n",
      "C: Iteration 1: bonus_intord = 2\n",
      "C: Iteration 2: bonus_intord = 4\n",
      "C: Iteration 3: bonus_intord = 6\n",
      "C Bilinear Form Converged using order 8\n"
     ]
    },
    {
     "name": "stderr",
     "output_type": "stream",
     "text": [
      "Solving Theta0: 100%|███████████████████████████████████████████████████████████| 3/3 [00:00<00:00, 36792.14it/s]\n"
     ]
    },
    {
     "name": "stdout",
     "output_type": "stream",
     "text": [
      " solved theta0 problems    \n",
      " solving theta1 snapshots\n"
     ]
    },
    {
     "name": "stderr",
     "output_type": "stream",
     "text": [
      "Solving Theta1 Snapshots: 100%|██████████████████████████████████████████████████| 13/13 [01:00<00:00,  4.68s/it]\n"
     ]
    },
    {
     "name": "stdout",
     "output_type": "stream",
     "text": [
      "manually closed pool\n",
      " SVD complete                \n",
      " Number of retained modes = 13\n",
      "manually closed poolder model\n",
      " reduced order systems solved\n",
      " frequency sweep complete\n",
      "Solving for order = 1 [0, 1, 2, 3, 4] [4, 4, 3, 2, 1, 2]\n"
     ]
    },
    {
     "data": {
      "application/vnd.jupyter.widget-view+json": {
       "model_id": "4d8400c36f3341cfac40ab36b24e7b51",
       "version_major": 2,
       "version_minor": 0
      },
      "text/plain": [
       "WebGuiWidget(layout=Layout(height='50vh', width='100%'), value={'ngsolve_version': 'Netgen x.x', 'mesh_dim': 3…"
      ]
     },
     "metadata": {},
     "output_type": "display_data"
    },
    {
     "name": "stdout",
     "output_type": "stream",
     "text": [
      "10.0 0.005947082898819447\n",
      "save mesh\n",
      "Updated alpha from OCC file. Alpha=0.01\n",
      "OCC_Gun_model_nonym_suite_StainSt_dual_len40.geo\n",
      "1 air Steel\n",
      "[0, 1, 2] 3 ['air', 'StainSteel', 'Steel']\n",
      "Mesh Contains Prisms? True\n",
      "N Prisms: 13157, N Tets: 32916\n",
      "1 air Steel\n",
      "[0, 1, 2] 3 ['air', 'StainSteel', 'Steel']\n"
     ]
    },
    {
     "name": "stderr",
     "output_type": "stream",
     "text": [
      "/home/paul/Coding/MPT-Calculator-March2024-15/MPT-Calculator/main.py:279: UserWarning: It looks like the main function was invoked from a jupyter notebook. \n",
      "Currently saving a .ipynb file is done by copying the most recent file in the .ipynb_checkpoints folder. \n",
      "Unless you saved the file before running the code, this may not be the correct file.\n",
      "  warn('It looks like the main function was invoked from a jupyter notebook. \\nCurrently saving a .ipynb file is done by copying the most recent file in the .ipynb_checkpoints folder. \\nUnless you saved the file before running the code, this may not be the correct file.', stacklevel=1)\n"
     ]
    },
    {
     "name": "stdout",
     "output_type": "stream",
     "text": [
      "Running as parallel POD\n",
      " mesh contains 46073 elements\n",
      "Running Bilinear Forms Check\n",
      "Mesh curve order set to:  5\n",
      "K: Iteration 1: bonus_intord = 2\n",
      "K: Iteration 2: bonus_intord = 4\n",
      "K: Iteration 3: bonus_intord = 6\n",
      "K: Iteration 4: bonus_intord = 8\n",
      "No convergence - exit loop and switch to linear geometry\n",
      "Running Bilinear Forms Check\n"
     ]
    },
    {
     "name": "stderr",
     "output_type": "stream",
     "text": [
      "/home/paul/Coding/MPT-Calculator-March2024-15/MPT-Calculator/Functions/PrerunChecks/BilinearForms_Check.py:123: UserWarning: K Bilinear Form did not converge. Trying again with linear geometry.\n",
      "  warnings.warn(\"K Bilinear Form did not converge. Trying again with linear geometry.\")\n"
     ]
    },
    {
     "name": "stdout",
     "output_type": "stream",
     "text": [
      "Mesh curve order set to:  1\n",
      "K: Iteration 1: bonus_intord = 2\n",
      "K: Iteration 2: bonus_intord = 4\n",
      "K Bilinear Form Converged using order 6\n",
      "C: Iteration 1: bonus_intord = 2\n",
      "C: Iteration 2: bonus_intord = 4\n",
      "C: Iteration 3: bonus_intord = 6\n",
      "C Bilinear Form Converged using order 8\n"
     ]
    },
    {
     "name": "stderr",
     "output_type": "stream",
     "text": [
      "Solving Theta0: 100%|███████████████████████████████████████████████████████████| 3/3 [00:00<00:00, 30247.38it/s]\n"
     ]
    },
    {
     "name": "stdout",
     "output_type": "stream",
     "text": [
      " solved theta0 problems    \n",
      " solving theta1 snapshots\n"
     ]
    },
    {
     "name": "stderr",
     "output_type": "stream",
     "text": [
      "Solving Theta1 Snapshots:  31%|███████████████▋                                   | 4/13 [02:22<03:18, 22.06s/it]"
     ]
    }
   ],
   "source": [
    "from main import main\n",
    "comparison_eig_p = np.zeros((200,6), dtype=complex)\n",
    "comparison_ndofs_p = np.zeros(6)\n",
    "start_time = time()\n",
    "P=  [0,1,2,3,4]\n",
    "CPU=[4,4,3,2,1,2]\n",
    "for count in range(len(P)):\n",
    "    print('Solving for order =',P[count],P,CPU)\n",
    "    Return_Dict = main(geometry='OCC_Gun_model_nonym_suite_StainSt_dual_len40.py', use_OCC=True, start_stop=(1,8,200),\n",
    "                       use_POD=True,order=P[count],cpus=CPU[count])\n",
    "   \n",
    "    comparison_eig_p[:,count] = Return_Dict['EigenValues'][:,0]\n",
    "    comparison_ndofs_p[count] = Return_Dict['NDOF'][1]"
   ]
  },
  {
   "cell_type": "code",
   "execution_count": null,
   "id": "0578ea20",
   "metadata": {
    "scrolled": false
   },
   "outputs": [],
   "source": [
    "\n",
    "frequencies = [3e5]\n",
    "for f in frequencies:\n",
    "    freq=[f]\n",
    "    Return_Dict = main(geometry='OCC_Gun_modelv2_nonsym_StainSt.py', use_OCC=True,order=3,cpus=3,frequency_array=freq);\n"
   ]
  },
  {
   "cell_type": "code",
   "execution_count": null,
   "id": "b0a24c66",
   "metadata": {},
   "outputs": [],
   "source": []
  }
 ],
 "metadata": {
  "kernelspec": {
   "display_name": "Python 3 (ipykernel)",
   "language": "python",
   "name": "python3"
  },
  "language_info": {
   "codemirror_mode": {
    "name": "ipython",
    "version": 3
   },
   "file_extension": ".py",
   "mimetype": "text/x-python",
   "name": "python",
   "nbconvert_exporter": "python",
   "pygments_lexer": "ipython3",
   "version": "3.10.4"
  }
 },
 "nbformat": 4,
 "nbformat_minor": 5
}
