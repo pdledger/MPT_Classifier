{
 "cells": [
  {
   "cell_type": "markdown",
   "id": "4d641378",
   "metadata": {},
   "source": [
    "**The first thing to do is to run Creator.py to setup the dataset. First specify the options**\n"
   ]
  },
  {
   "cell_type": "code",
   "execution_count": 12,
   "id": "2be154fc",
   "metadata": {},
   "outputs": [],
   "source": [
    "import numpy as np\n",
    "# The Name of the Dataset\n",
    "Name = \"British-Coins-Updated-1p-2p/Coins-100-inv_log_freq_2_6_100\"\n",
    "\n",
    "# Frequency Array\n",
    "Frequencies=np.array([119.25,17800.875])#,238.5,298.125,357.75,477,596.25,715.5,954,1192.5,1431,1908,2385,2862,3816,4770,5724,7632,9540,12402,16218,20988,26712,34344,43884,57240,73458,95400])\n",
    "Frequencies = Frequencies*6.28 #Convert to rad/s'\n",
    "#Frequencies=np.logspace(2,8,150)\n",
    "#Frequencies=np.logspace(2,6,100)\n",
    "\n",
    "# Classes to Include\n",
    "Classes = [\"British_Coins_Updated_1p_2p\"]\n",
    "#\n",
    "# Global number of results\n",
    "# Coin Problem\n",
    "extend_results = 'global_obj'\n",
    "\n",
    "# Number of secondary results if 'global_obj'\n",
    "\n",
    "#Coin Problem`\n",
    "Num_Results = 500\n",
    "\n",
    "# Classes if 'global_class' or 'classwise'\n",
    "class_split=[]\n",
    "\n",
    "# Name each of the classes this is done in order\n",
    "class_names = []\n",
    "\n",
    "# Number of results if 'global_class'\n",
    "Num_Results_class = []\n",
    "\n",
    "\n",
    "# (int) Number of results per class results per class if 'classwise'\n",
    "class_num_results = []\n",
    "\n",
    "#Labeler False,'Classwise', 'Objectwise'\n",
    "Label_Data = 'Objectwise'\n",
    "Name_Objects = True\n",
    "\n",
    "#(dictionary) name the objects as you wish them to appear in the classificaiton\n",
    "Object_Names_dictionary ={\"Two_Pound\":r\"£2\", \"Ten_Pence\":r\"10p_(new)\", \"Ten_Pence_non_magnetic\":r\"10p_(old)\", \"One_Pound\":r\"£1\", \"Two_Penny\":r\"2p_(new)\",\n",
    "                              \"Two_Penny_non_magnetic\":r\"2p_(old)\", \"Twenty_Pence\":r\"20p\", \"Five_Pence\":r\"5p_(new)\", \"Five_Pence_non_magnetic\":r\"5p_(old)\",\n",
    "                              \"Fifty_Pence\":r\"50p\", \"One_Penny\":r\"1p_(new)\", \"One_Penny_non_magnetic\":r\"1p_(old)\"}\n",
    "\n",
    "\n",
    "Name_Order = [\"One_Penny\",\"One_Penny_non_magnetic\",\"Two_Penny\",\"Two_Penny_non_magnetic\",\"Five_Pence\",\"Five_Pence_non_magnetic\",\n",
    "             \"Ten_Pence\",\"Ten_Pence_non_magnetic\",\"Twenty_Pence\",\"Fifty_Pence\",\"One_Pound\",\"Two_Pound\"]\n",
    "\n",
    "#How to scale\n",
    "Scale_type = 'Global'\n",
    "\n",
    "#Which file (This is not currently used)\n",
    "Scale_File = 'Coin_DataSet.csv'\n",
    "\n",
    "\n",
    "#Alpha scale\n",
    "Alpha_scale = 0.84\n",
    "\n",
    "#Sigma scale\n",
    "Sigma_scale = 12.5\n",
    "\n",
    "# Path Name for where the class data is stored\n",
    "Class_dir = \"Classes_Ben\"\n",
    "\n",
    "# Create a dictionary of these settings\n",
    "Creator_Settings = {\"Name\":Name,\"Frequencies\":Frequencies,\"Classes\":Classes,\"extend_results\":extend_results,\"Num_Results\":Num_Results,#\n",
    "                    \"class_split\":class_split,\"class_names\":class_names,\"Num_Results_class\":Num_Results_class,\"class_num_results\":class_num_results,\\\n",
    "                    \"Label_Data\":Label_Data,\"Name_Objects\":Name_Objects,\"Object_Names_dictionary\":Object_Names_dictionary,\"Name_Order\":Name_Order,\\\n",
    "                    \"Scale_type\":Scale_type,\"Scale_File\":Scale_File,\"Alpha_scale\":Alpha_scale,\"Sigma_scale\":Sigma_scale, \"Class_dir\":Class_dir}"
   ]
  },
  {
   "cell_type": "code",
   "execution_count": 13,
   "id": "cf2c8608",
   "metadata": {},
   "outputs": [
    {
     "name": "stdout",
     "output_type": "stream",
     "text": [
      "The folder path to the dataset is: British-Coins-Updated-1p-2p/Coins-100-inv_log_freq_2_6_100_Al_0.84_Sig_12.5\n",
      "Class type is a list\n",
      "One_Pound\n",
      "Twenty_Pence\n",
      "Ten_Pence_non_magnetic\n",
      "Fifty_Pence\n",
      "One_Penny\n",
      "Two_Penny_non_magnetic\n",
      "Five_Pence_non_magnetic\n",
      "Ten_Pence\n",
      "One_Penny_non_magnetic\n",
      "Two_Pound\n",
      "Five_Pence\n",
      "Two_Penny\n",
      "(6000, 2) 2\n"
     ]
    }
   ],
   "source": [
    "# Run the Creator script\n",
    "from Creator import *\n",
    "#DataSet_Name=Creator(Name,Frequencies,Classes,extend_results,Num_Results,class_split,class_names,\\\n",
    "#            Num_Results_class,class_num_results,Label_Data, Name_Objects,Object_Names_dictionary,Name_Order,Scale_type,Scale_File,\\\n",
    "#            Alpha_scale,Sigma_scale)\n",
    "DataSet_Name=Creator(Creator_Settings)"
   ]
  },
  {
   "cell_type": "code",
   "execution_count": 2,
   "id": "96be8df1",
   "metadata": {},
   "outputs": [
    {
     "name": "stdout",
     "output_type": "stream",
     "text": [
      "British-Coins-Updated-1p-2p/Coins-100-inv_log_freq_2_6_100_Al_0.84_Sig_12.5\n"
     ]
    }
   ],
   "source": [
    "# This is the dataset name to be used with the classifier\n",
    "\n",
    "#DataSet_Name=\"British-Coins-Updated-1p-2p/Coins-100_Al_0.84_Sig_12.5\"\n",
    "#DataSet_Name=\"British-Coins-Updated-1p-2p/Coins-100_Al_0.84_Sig_12.5\"\n",
    "#DataSet_Name=\"British-Coins-Updated-1p-2p/Coins-100-inv_Al_0.84_Sig_12.5\"\n",
    "DataSet_Name=\"British-Coins-Updated-1p-2p/Coins-100-inv_log_freq_2_6_100_Al_0.84_Sig_12.5\"\n",
    "print(DataSet_Name)"
   ]
  },
  {
   "cell_type": "markdown",
   "id": "bb993227",
   "metadata": {},
   "source": [
    "**The next part involves running the actual classifier. This is done using Trainer_PDL.py**"
   ]
  },
  {
   "cell_type": "code",
   "execution_count": 4,
   "id": "adca0bb8",
   "metadata": {},
   "outputs": [],
   "source": [
    "# Option to load external testing data from disk. Requires that external_file_loader.py be run first.\n",
    "Load_External_Data = False \n",
    "# Option to plot comparison figures between the input array of simulated data and the external test data.\n",
    "# Currently only supported for a single class test set.\n",
    "Plot_Comparison_Figures = True\n",
    "# Option to additionally save to disk: the model for each bootstrap iteration, the normalisation coefficients for each,\n",
    "# bootstrap iteration, and the input array for each model, Used for debugging.\n",
    "Full_Save = False\n",
    "\n",
    "# Option to use SVD to reduce the number of features\n",
    "Reduce_Features = False\n",
    "\n",
    "#Model to be used\n",
    "#Optional models 'LogisticRegression', 'SVM', 'DecisionTree', 'RandomForest', 'GradientBoost', 'MLP','MLP,(n1,n2,...,nn)'\n",
    "Models_to_run = ['LogisticRegression']#,'SVM','GradientBoost']\n",
    "\n",
    "#Features\n",
    "#Features = ['Eig1']#['AngleRtildeI']#['Pri1','Pri2','Pri3']#['AngleRtildeI']#\n",
    "#Features = ['Eig1', 'Eig2', 'Eig3']\n",
    "Features = ['Eig1']#['AngleRtildeI'] #['Pri1','Pri2','Pri3']\n",
    "#(list) list of features to be used options:\n",
    "#'Eig1','Eig2','Eig3','Pri1','Pri2','Pri3','Dev2','Dev3','Com','AngleRtildeI'\n",
    "#Eigenvalues, Principal invarients, Deviatoric invarients, Comutator, Angle between Rtilde and I\n",
    "\n",
    "#How many times would you like to train the model\n",
    "Bootstrap_Repetitions = 1\n",
    "#(int) how many times to train the model to obtain an average accuracy\n",
    "\n",
    "# use default levels of SNR\n",
    "SNR_array=[]\n",
    "\n",
    "# Make plot of first two reduced invairants\n",
    "Plot_Principal_Componenets = False\n",
    "\n",
    "Trainer_Settings = {\"DataSet_Name\": DataSet_Name, \"Load_External_Data\":Load_External_Data, \"Plot_Comparison_Figures\":Plot_Comparison_Figures,\\\n",
    "                   \"Full_Save\": Full_Save, \"Reduce_Features\":Reduce_Features, \"Models_to_run\": Models_to_run, \"Features\":Features, #\n",
    "                    \"Bootstrap_Repetitions\": Bootstrap_Repetitions, \"SNR_array\": SNR_array, \"Plot_Principal_Componenets\": Plot_Principal_Componenets }"
   ]
  },
  {
   "cell_type": "code",
   "execution_count": null,
   "id": "d510a2f5",
   "metadata": {
    "scrolled": true
   },
   "outputs": [
    {
     "name": "stdout",
     "output_type": "stream",
     "text": [
      "Noise level =  5\n",
      "(6000, 36)\n",
      "(6000, 6) (6000, 4)\n",
      "Data [[ 8.37478120e-08 -3.80048314e-06  7.21633130e-09 ...  0.00000000e+00\n",
      "   4.12860345e-06  4.37416480e-07]\n",
      " [ 8.37478120e-08 -3.80048314e-06  7.21633130e-09 ...  0.00000000e+00\n",
      "   4.34806028e-06  4.21967475e-07]\n",
      " [ 8.37478120e-08 -3.80048314e-06  7.21633130e-09 ...  0.00000000e+00\n",
      "   5.67962240e-06  3.08245127e-07]\n",
      " ...\n",
      " [ 1.25078233e-06 -3.23823626e-06  1.99910131e-07 ...  0.00000000e+00\n",
      "   1.30658271e-06  3.05447634e-04]\n",
      " [ 1.25078233e-06 -3.23823626e-06  1.99910131e-07 ...  0.00000000e+00\n",
      "   1.31519385e-06  2.76923983e-04]\n",
      " [ 1.25078233e-06 -3.23823626e-06  1.99910131e-07 ...  0.00000000e+00\n",
      "   1.25295585e-06  5.79172502e-04]]\n",
      "to here\n",
      "LogisticRegression\n",
      "12 0 4 4500\n",
      "[0.51405566 0.61370739 0.34934654 0.76248347]\n",
      "[-0.58144647  0.0143892  -0.47167022 -0.47054472]\n",
      "[1.79140195 0.00887094 2.24149289 2.24728156]\n",
      "[-0.7323408  -1.02360515 -0.38142807 -0.33760111]\n",
      "[ 0.52616783  0.94577681 -0.03137188 -0.18745693]\n",
      "[-0.54285104  0.67761837 -0.5133272  -0.61030332]\n",
      "[1.44072671 0.76171425 1.09543914 0.67650012]\n",
      "[-0.54350323  0.02928939 -0.50778881 -0.56610017]\n",
      "[-0.54369265  0.2333957  -0.50803107 -0.56014247]\n",
      "[-0.54381882 -0.30355435 -0.50712879 -0.55720631]\n",
      "[-0.39171478 -0.18903559 -0.42334951 -0.26241348]\n",
      "[-0.4253338  -1.82774337 -0.40452867 -0.1758258 ]\n",
      "1154905437.1984854\n",
      "Noise level =  10\n",
      "(6000, 36)\n",
      "(6000, 6) (6000, 4)\n",
      "Data [[ 8.37478120e-08 -3.80048314e-06  7.21633130e-09 ...  0.00000000e+00\n",
      "   4.12860345e-06  4.37416480e-07]\n",
      " [ 8.37478120e-08 -3.80048314e-06  7.21633130e-09 ...  0.00000000e+00\n",
      "   4.34806028e-06  4.21967475e-07]\n",
      " [ 8.37478120e-08 -3.80048314e-06  7.21633130e-09 ...  0.00000000e+00\n",
      "   5.67962240e-06  3.08245127e-07]\n",
      " ...\n",
      " [ 1.25078233e-06 -3.23823626e-06  1.99910131e-07 ...  0.00000000e+00\n",
      "   1.30658271e-06  3.05447634e-04]\n",
      " [ 1.25078233e-06 -3.23823626e-06  1.99910131e-07 ...  0.00000000e+00\n",
      "   1.31519385e-06  2.76923983e-04]\n",
      " [ 1.25078233e-06 -3.23823626e-06  1.99910131e-07 ...  0.00000000e+00\n",
      "   1.25295585e-06  5.79172502e-04]]\n",
      "to here\n",
      "LogisticRegression\n",
      "12 0 4 4500\n",
      "[0.57576808 0.73824943 0.41521097 0.79387967]\n",
      "[-0.64924285  0.0210338  -0.53055896 -0.53567716]\n",
      "[ 2.06977967 -0.01586737  2.51979264  2.65462577]\n",
      "[-0.82573737 -1.28985988 -0.42900337 -0.35282874]\n",
      "[ 0.56974881  1.14614261 -0.030473   -0.19287223]\n",
      "[-0.60581694  0.83932336 -0.58017099 -0.70300809]\n",
      "[1.60642664 0.93332088 1.30535881 0.76705244]\n",
      "[-0.60654147  0.04291115 -0.57402427 -0.64615376]\n",
      "[-0.60679578  0.24867913 -0.57364561 -0.64556637]\n",
      "[-0.60698947 -0.37679384 -0.57320626 -0.64179031]\n",
      "[-0.43562783 -0.25604141 -0.47176973 -0.27396488]\n",
      "[-0.47248459 -2.04216542 -0.46107807 -0.19887636]\n",
      "2487785090.571418\n",
      "Noise level =  15\n",
      "(6000, 36)\n",
      "(6000, 6) (6000, 4)\n",
      "Data [[ 8.37478120e-08 -3.80048314e-06  7.21633130e-09 ...  0.00000000e+00\n",
      "   4.12860345e-06  4.37416480e-07]\n",
      " [ 8.37478120e-08 -3.80048314e-06  7.21633130e-09 ...  0.00000000e+00\n",
      "   4.34806028e-06  4.21967475e-07]\n",
      " [ 8.37478120e-08 -3.80048314e-06  7.21633130e-09 ...  0.00000000e+00\n",
      "   5.67962240e-06  3.08245127e-07]\n",
      " ...\n",
      " [ 1.25078233e-06 -3.23823626e-06  1.99910131e-07 ...  0.00000000e+00\n",
      "   1.30658271e-06  3.05447634e-04]\n",
      " [ 1.25078233e-06 -3.23823626e-06  1.99910131e-07 ...  0.00000000e+00\n",
      "   1.31519385e-06  2.76923983e-04]\n",
      " [ 1.25078233e-06 -3.23823626e-06  1.99910131e-07 ...  0.00000000e+00\n",
      "   1.25295585e-06  5.79172502e-04]]\n",
      "to here\n",
      "LogisticRegression\n",
      "12 0 4 4500\n",
      "[0.6320212  0.79075988 0.41103154 0.86316818]\n",
      "[-0.68164156 -0.00194097 -0.55429694 -0.55739052]\n",
      "[ 2.12513082 -0.04735324  2.59998004  2.73106746]\n",
      "[-0.86217063 -1.39075572 -0.44377398 -0.38066769]\n",
      "[ 0.59532955  1.24719802 -0.02906163 -0.18902333]\n",
      "[-0.63563791  0.90208683 -0.60543118 -0.73565732]\n",
      "[1.68174503 1.01772983 1.37084681 0.79645856]\n",
      "[-0.63639986  0.04404275 -0.59931264 -0.67669342]\n",
      "[-0.63669731  0.28341456 -0.59876006 -0.67583119]\n",
      "[-0.63684706 -0.38309824 -0.59849738 -0.67109059]\n",
      "[-0.45126735 -0.24748922 -0.49075178 -0.29304712]\n",
      "[-0.49616461 -2.15350231 -0.47798894 -0.19377593]\n",
      "6381732105.131073\n",
      "Noise level =  20\n",
      "(6000, 36)\n",
      "(6000, 6) (6000, 4)\n",
      "Data [[ 8.37478120e-08 -3.80048314e-06  7.21633130e-09 ...  0.00000000e+00\n",
      "   4.12860345e-06  4.37416480e-07]\n",
      " [ 8.37478120e-08 -3.80048314e-06  7.21633130e-09 ...  0.00000000e+00\n",
      "   4.34806028e-06  4.21967475e-07]\n",
      " [ 8.37478120e-08 -3.80048314e-06  7.21633130e-09 ...  0.00000000e+00\n",
      "   5.67962240e-06  3.08245127e-07]\n",
      " ...\n",
      " [ 1.25078233e-06 -3.23823626e-06  1.99910131e-07 ...  0.00000000e+00\n",
      "   1.30658271e-06  3.05447634e-04]\n",
      " [ 1.25078233e-06 -3.23823626e-06  1.99910131e-07 ...  0.00000000e+00\n",
      "   1.31519385e-06  2.76923983e-04]\n",
      " [ 1.25078233e-06 -3.23823626e-06  1.99910131e-07 ...  0.00000000e+00\n",
      "   1.25295585e-06  5.79172502e-04]]\n",
      "to here\n",
      "LogisticRegression\n",
      "12 0 4 4500\n",
      "[0.64980262 0.81903179 0.41759525 0.87065728]\n",
      "[-0.68962533  0.02472707 -0.55924508 -0.56651578]\n",
      "[ 2.16877946 -0.03443608  2.66639552  2.77985107]\n",
      "[-0.87615449 -1.3876362  -0.44983231 -0.38812573]\n",
      "[ 0.59874526  1.28540497 -0.02648669 -0.19691419]\n",
      "[-0.64242065  0.93409507 -0.61098539 -0.74627079]\n",
      "[1.72637264 1.03956035 1.36922765 0.80113612]\n",
      "[-0.64319871  0.04549402 -0.60472344 -0.68951449]\n",
      "[-0.64351096  0.30329522 -0.60417901 -0.68566929]\n",
      "[-0.64365801 -0.40720322 -0.60394406 -0.68116189]\n",
      "[-0.45510335 -0.26421812 -0.49689774 -0.29879738]\n",
      "[-0.49971117 -2.23081249 -0.48230805 -0.20464448]\n",
      "16691142333.21001\n",
      "Noise level =  40\n",
      "(6000, 36)\n",
      "(6000, 6) (6000, 4)\n",
      "Data [[ 8.37478120e-08 -3.80048314e-06  7.21633130e-09 ...  0.00000000e+00\n",
      "   4.12860345e-06  4.37416480e-07]\n",
      " [ 8.37478120e-08 -3.80048314e-06  7.21633130e-09 ...  0.00000000e+00\n",
      "   4.34806028e-06  4.21967475e-07]\n",
      " [ 8.37478120e-08 -3.80048314e-06  7.21633130e-09 ...  0.00000000e+00\n",
      "   5.67962240e-06  3.08245127e-07]\n",
      " ...\n",
      " [ 1.25078233e-06 -3.23823626e-06  1.99910131e-07 ...  0.00000000e+00\n",
      "   1.30658271e-06  3.05447634e-04]\n",
      " [ 1.25078233e-06 -3.23823626e-06  1.99910131e-07 ...  0.00000000e+00\n",
      "   1.31519385e-06  2.76923983e-04]\n",
      " [ 1.25078233e-06 -3.23823626e-06  1.99910131e-07 ...  0.00000000e+00\n",
      "   1.25295585e-06  5.79172502e-04]]\n",
      "to here\n"
     ]
    }
   ],
   "source": [
    "from Trainer_PDL import *\n",
    "\n",
    "#main(DataSet_Name,Load_External_Data,Plot_Comparison_Figures,Full_Save,Reduce_Features,Models_to_run,Features,Bootstrap_Repetitions)\n",
    "main(Trainer_Settings)"
   ]
  },
  {
   "cell_type": "code",
   "execution_count": null,
   "id": "b28b5a58",
   "metadata": {},
   "outputs": [],
   "source": []
  },
  {
   "cell_type": "code",
   "execution_count": 4,
   "id": "a27f4d7e-007a-470d-a072-3910c7c28cb2",
   "metadata": {},
   "outputs": [
    {
     "name": "stdout",
     "output_type": "stream",
     "text": [
      "0.13619000055906763\n"
     ]
    }
   ],
   "source": [
    "from scipy.stats import gaussian_kde\n",
    "from scipy.integrate import quad\n",
    "import numpy as np\n",
    "\n",
    "# Generate two random probability distributions\n",
    "samples=100\n",
    "var=10\n",
    "p = np.random.rand(samples)\n",
    "q = np.random.rand(samples)\n",
    "\n",
    "# Estimate the kernel density of the samples\n",
    "kernel_p = gaussian_kde(p)\n",
    "kernel_q = gaussian_kde(q)\n",
    "\n",
    "inter = max(p) - min(p)\n",
    "start = min(p) - inter/2\n",
    "stop  = max(p) + inter/2\n",
    "\n",
    "# Evaluate the KL divergence\n",
    "kl_div, _ = quad(lambda x: (kernel_p(x) * np.log2(kernel_p(x) / kernel_q(x))), start, stop)\n",
    "print(kl_div)\n"
   ]
  },
  {
   "cell_type": "code",
   "execution_count": 119,
   "id": "49429320-7ce2-47b9-914e-99d6f597af56",
   "metadata": {},
   "outputs": [
    {
     "name": "stdout",
     "output_type": "stream",
     "text": [
      "[[0.01220291]]\n",
      "0.07699513533121759\n",
      "kldiv est 0.009376630652298358\n",
      "kldiv est 0.011493426434629563\n",
      "[[0.07699514]] 0.07699513533121759\n",
      "[[0.01262015]]\n",
      "[[0.0142344]]\n"
     ]
    }
   ],
   "source": [
    "from scipy.stats import gaussian_kde\n",
    "from scipy.integrate import quad\n",
    "import numpy as np\n",
    "\n",
    "# Generate two random probability distributions\n",
    "samples=100\n",
    "var=1\n",
    "p = np.random.rand(samples,var)\n",
    "q = np.random.rand(samples,var)\n",
    "\n",
    "# Estimate the kernel density of the samples\n",
    "kernel_p = gaussian_kde(p.T)\n",
    "kernel_q = gaussian_kde(q.T)\n",
    "print(kernel_p.covariance)\n",
    "print(np.cov(p.T))\n",
    "\n",
    "inter = max(p) - min(p)\n",
    "start = min(p) - inter/2\n",
    "stop  = max(p) + inter/2\n",
    "\n",
    "# Evaluate the KL divergence\n",
    "kl_div, _ = quad(lambda x: (0.5*kernel_p(x) * np.log(kernel_p(x) / kernel_q(x))), start, stop)\n",
    "print(\"kldiv est\",kl_div)\n",
    "kl_div, _ = quad(lambda x: (0.5*kernel_q(x) * np.log(kernel_q(x) / kernel_p(x))), start, stop)\n",
    "print(\"kldiv est\",kl_div)\n",
    "\n",
    "\n",
    "# Direct evaluation using the formula\n",
    "mu_p = np.array(np.mean(p))\n",
    "mu_q = np.array(np.mean(q))\n",
    "cov_p = kernel_p.covariance/kernel_p.factor**2\n",
    "cov_q = kernel_q.covariance/kernel_q.factor**2\n",
    "print(cov_p,np.cov(p.T))\n",
    "icov_p = kernel_p.inv_cov*kernel_p.factor**2\n",
    "icov_q = kernel_q.inv_cov*kernel_q.factor**2\n",
    "#print(icov_p*np.array(mu_p-mu_q))\n",
    "dp=np.linalg.det(cov_p)\n",
    "dq=np.linalg.det(cov_q)\n",
    "#help(kernel_p)\n",
    "\n",
    "print(1/2.*(mu_p-mu_q)*(icov_q*(mu_p-mu_q)) + 1/2.*(np.trace(icov_q*cov_p)-1+np.log(np.abs(dq/dp))))\n",
    "print(1/2.*(mu_p-mu_q)*(icov_p*(mu_p-mu_q)) + 1/2.*(np.trace(icov_p*cov_q)-1+np.log(np.abs(dp/dq))))"
   ]
  },
  {
   "cell_type": "code",
   "execution_count": 118,
   "id": "d509c8bf-a1f7-41d2-aa95-ee44cd1f8295",
   "metadata": {},
   "outputs": [],
   "source": [
    "import numpy as np\n",
    "from scipy import stats\n",
    "import matplotlib.pylab as plt"
   ]
  },
  {
   "cell_type": "code",
   "execution_count": 31,
   "id": "dc065a4f-426d-4f97-8a05-886ced13d45c",
   "metadata": {},
   "outputs": [],
   "source": [
    "n_basesample = 1000\n",
    "np.random.seed(87650678)\n",
    "xn = np.random.randn(n_basesample)"
   ]
  },
  {
   "cell_type": "code",
   "execution_count": 38,
   "id": "17646c64-26ea-4051-a9ef-859bdb8fe777",
   "metadata": {},
   "outputs": [
    {
     "name": "stdout",
     "output_type": "stream",
     "text": [
      "[[0.95839457]]\n",
      "0.958394573155834\n"
     ]
    }
   ],
   "source": [
    "gkde=stats.gaussian_kde(xn)\n",
    "# Note that we need to take account of the covairance factor!\n",
    "print(gkde.covariance/gkde.factor**2)\n",
    "#help(gkde)\n",
    "print(np.cov(xn))"
   ]
  },
  {
   "cell_type": "code",
   "execution_count": 34,
   "id": "23eea36a-32ef-44d9-9edb-ad97da699893",
   "metadata": {},
   "outputs": [],
   "source": [
    "ind = np.linspace(-7,7,101)\n",
    "kdepdf = gkde.evaluate(ind)"
   ]
  },
  {
   "cell_type": "code",
   "execution_count": 35,
   "id": "decdc8dc-a11b-4c1f-8d34-07fcce32647d",
   "metadata": {},
   "outputs": [
    {
     "data": {
      "text/plain": [
       "<matplotlib.legend.Legend at 0x17e73a040>"
      ]
     },
     "execution_count": 35,
     "metadata": {},
     "output_type": "execute_result"
    },
    {
     "data": {
      "image/png": "[encoded data removed]",
      "text/plain": [
       "<Figure size 640x480 with 1 Axes>"
      ]
     },
     "metadata": {},
     "output_type": "display_data"
    }
   ],
   "source": [
    "plt.figure()\n",
    "# plot histgram of sample\n",
    "#plt.hist(xn, bins=20, normed=1)\n",
    "# plot data generating density\n",
    "plt.plot(ind, stats.norm.pdf(ind), color=\"r\", label='DGP normal')\n",
    "# plot estimated density\n",
    "plt.plot(ind, kdepdf, label='kde', color=\"g\")\n",
    "plt.title('Kernel Density Estimation')\n",
    "plt.legend()\n",
    "#plt.show()"
   ]
  },
  {
   "cell_type": "code",
   "execution_count": 91,
   "id": "ff4148c7-0520-47ad-9f56-064c576c9c32",
   "metadata": {},
   "outputs": [
    {
     "name": "stdout",
     "output_type": "stream",
     "text": [
      "kl_pq 1.3356800935337299\n",
      "kl_qp 1.4012995907424075\n",
      "kl_pq 1.3356800935337299\n",
      "kl_qp 1.4012995907424075\n"
     ]
    }
   ],
   "source": [
    "def kl_div(p,q):\n",
    "    return sum(p[i]*np.log(p[i]/q[i]) for i in range(len(p)))\n",
    "\n",
    "p=[0.1,0.4, 0.5]\n",
    "q=[0.8, 0.15, 0.05]\n",
    "kl_pq=kl_div(p,q)\n",
    "print(\"kl_pq\",kl_pq)\n",
    "kl_qp=kl_div(q,p)\n",
    "print(\"kl_qp\",kl_qp)\n",
    "\n",
    "from scipy.special import rel_entr\n",
    "print(\"kl_pq\",sum(rel_entr(p,q)))\n",
    "kl_qp=kl_div(q,p)\n",
    "print(\"kl_qp\",sum(rel_entr(q,p)))\n"
   ]
  },
  {
   "cell_type": "code",
   "execution_count": null,
   "id": "b8e2c458-b484-47e2-8cbb-a1c34006bf52",
   "metadata": {},
   "outputs": [],
   "source": []
  }
 ],
 "metadata": {
  "kernelspec": {
   "display_name": "Python 3 (ipykernel)",
   "language": "python",
   "name": "python3"
  },
  "language_info": {
   "codemirror_mode": {
    "name": "ipython",
    "version": 3
   },
   "file_extension": ".py",
   "mimetype": "text/x-python",
   "name": "python",
   "nbconvert_exporter": "python",
   "pygments_lexer": "ipython3",
   "version": "3.8.19"
  }
 },
 "nbformat": 4,
 "nbformat_minor": 5
}
