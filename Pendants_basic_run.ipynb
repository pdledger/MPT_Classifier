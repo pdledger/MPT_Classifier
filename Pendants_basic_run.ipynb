{
 "cells": [
  {
   "cell_type": "markdown",
   "id": "4d641378",
   "metadata": {},
   "source": [
    "**The first thing to do is to run Creator.py to setup the dataset. First specify the options**\n"
   ]
  },
  {
   "cell_type": "code",
   "execution_count": 1,
   "id": "2be154fc",
   "metadata": {},
   "outputs": [],
   "source": [
    "import numpy as np\n",
    "# The Name of the Dataset\n",
    "Name = \"Pendants/Pendants-100-inv_log_freq_2_6_100\"\n",
    "\n",
    "# Frequency Array\n",
    "Frequencies=np.array([119.25,178.875,238.5,298.125,357.75,477,596.25,715.5,954,1192.5,1431,1908,2385,2862,3816,4770,5724,7632,9540,12402,16218,20988,26712,34344,43884,57240,73458,95400])\n",
    "Frequencies = Frequencies*6.28 #Convert to rad/s'\n",
    "#Frequencies=np.logspace(2,8,150)\n",
    "Frequencies=np.logspace(2,6,100)\n",
    "\n",
    "# Classes to Include\n",
    "Classes = [\"Pendants\"]\n",
    "#\n",
    "# Global number of results\n",
    "# Coin Problem\n",
    "extend_results = 'global_obj'\n",
    "\n",
    "# Number of secondary results if 'global_obj'\n",
    "\n",
    "#Coin Problem`\n",
    "Num_Results = 100\n",
    "\n",
    "# Classes if 'global_class' or 'classwise'\n",
    "class_split=[]\n",
    "\n",
    "# Name each of the classes this is done in order\n",
    "class_names = []\n",
    "\n",
    "# Number of results if 'global_class'\n",
    "Num_Results_class = []\n",
    "\n",
    "\n",
    "# (int) Number of results per class results per class if 'classwise'\n",
    "class_num_results = []\n",
    "\n",
    "#Labeler False,'Classwise', 'Objectwise'\n",
    "Label_Data = 'Objectwise'\n",
    "Name_Objects = True\n",
    "\n",
    "#(dictionary) name the objects as you wish them to appear in the classificaiton\n",
    "\n",
    "Object_Names_dictionary ={\"Cross\":r\"Cross\", \n",
    "                          \"Cross_with_bail\":r\"Cross_with_Bail\",\n",
    "                          \"Heart_pendant\":r\"Heart_Pendant\",\n",
    "                          \"Oval_pendant\":r\"Oval_Pendant\",\n",
    "                          \"Rectangle_pendant\":r\"Rectangle_Pendant\",\n",
    "                          \"Soverign_pendant\":r\"Soverign_Pendant\",\n",
    "                          \"Soverign_pendant_with_bail\":r\"Soverign_Pendant_with_Bail\"}\n",
    "                          \n",
    "\n",
    "Name_Order = [\"Cross\",\n",
    "                          \"Cross_with_bail\",\n",
    "                          \"Heart_pendant\",\n",
    "                          \"Oval_pendant\",\n",
    "                          \"Rectangle_pendant\",\n",
    "                          \"Soverign_pendant\",\n",
    "                          \"Soverign_pendant_with_bail\"]\n",
    "\n",
    "#How to scale\n",
    "Scale_type = 'Global'\n",
    "\n",
    "#Which file (This is not currently used)\n",
    "Scale_File = 'Coin_DataSet.csv'\n",
    "\n",
    "\n",
    "#Alpha scale\n",
    "Alpha_scale = 0.84\n",
    "\n",
    "#Sigma scale\n",
    "Sigma_scale = 12.5\n",
    "\n",
    "# Path Name for where the class data is stored\n",
    "Class_dir = \"Classes_Paul\"\n",
    "\n",
    "# Create a dictionary of these settings\n",
    "Creator_Settings = {\"Name\":Name,\"Frequencies\":Frequencies,\"Classes\":Classes,\"extend_results\":extend_results,\"Num_Results\":Num_Results,#\n",
    "                    \"class_split\":class_split,\"class_names\":class_names,\"Num_Results_class\":Num_Results_class,\"class_num_results\":class_num_results,\\\n",
    "                    \"Label_Data\":Label_Data,\"Name_Objects\":Name_Objects,\"Object_Names_dictionary\":Object_Names_dictionary,\"Name_Order\":Name_Order,\\\n",
    "                    \"Scale_type\":Scale_type,\"Scale_File\":Scale_File,\"Alpha_scale\":Alpha_scale,\"Sigma_scale\":Sigma_scale, \"Class_dir\":Class_dir}"
   ]
  },
  {
   "cell_type": "code",
   "execution_count": 2,
   "id": "cf2c8608",
   "metadata": {},
   "outputs": [
    {
     "name": "stdout",
     "output_type": "stream",
     "text": [
      "The folder path to the dataset is: Pendants/Pendants-100-inv_log_freq_2_6_100_Al_0.84_Sig_12.5\n",
      "Class type is a list\n",
      "Rectangle_pendant\n",
      "Cross_with_bail\n",
      "Cross\n",
      "Oval_pendant\n",
      "Heart_pendant\n",
      "Soverign_pendant_with_bail\n",
      "Soverign_pendant\n",
      "(2100, 100) 100\n"
     ]
    }
   ],
   "source": [
    "# Run the Creator script\n",
    "from Creator import *\n",
    "#DataSet_Name=Creator(Name,Frequencies,Classes,extend_results,Num_Results,class_split,class_names,\\\n",
    "#            Num_Results_class,class_num_results,Label_Data, Name_Objects,Object_Names_dictionary,Name_Order,Scale_type,Scale_File,\\\n",
    "#            Alpha_scale,Sigma_scale)\n",
    "DataSet_Name=Creator(Creator_Settings)"
   ]
  },
  {
   "cell_type": "code",
   "execution_count": 1,
   "id": "96be8df1",
   "metadata": {},
   "outputs": [
    {
     "name": "stdout",
     "output_type": "stream",
     "text": [
      "Pendants/Pendants-100-inv_log_freq_2_6_100_Al_0.84_Sig_12.5\n"
     ]
    }
   ],
   "source": [
    "# This is the dataset name to be used with the classifier\n",
    "\n",
    "#DataSet_Name=\"British-Coins-Updated-1p-2p/Coins-100_Al_0.84_Sig_12.5\"\n",
    "#DataSet_Name=\"British-Coins-Updated-1p-2p/Coins-100_Al_0.84_Sig_12.5\"\n",
    "#DataSet_Name=\"Pendants/Pendants-100-inv_Al_0.84_Sig_12.5\"\n",
    "DataSet_Name=\"Pendants/Pendants-100-inv_log_freq_2_6_100_Al_0.84_Sig_12.5\"\n",
    "print(DataSet_Name)"
   ]
  },
  {
   "cell_type": "markdown",
   "id": "bb993227",
   "metadata": {},
   "source": [
    "**The next part involves running the actual classifier. This is done using Trainer_PDL.py**"
   ]
  },
  {
   "cell_type": "code",
   "execution_count": 2,
   "id": "adca0bb8",
   "metadata": {},
   "outputs": [],
   "source": [
    "# Option to load external testing data from disk. Requires that external_file_loader.py be run first.\n",
    "Load_External_Data = False \n",
    "# Option to plot comparison figures between the input array of simulated data and the external test data.\n",
    "# Currently only supported for a single class test set.\n",
    "Plot_Comparison_Figures = True\n",
    "# Option to additionally save to disk: the model for each bootstrap iteration, the normalisation coefficients for each,\n",
    "# bootstrap iteration, and the input array for each model, Used for debugging.\n",
    "Full_Save = False\n",
    "\n",
    "# Option to use SVD to reduce the number of features\n",
    "Reduce_Features = False\n",
    "\n",
    "#Model to be used\n",
    "#Optional models 'LogisticRegression', 'SVM', 'DecisionTree', 'RandomForest', 'GradientBoost', 'MLP','MLP,(n1,n2,...,nn)'\n",
    "Models_to_run = ['LogisticRegression']#,'SVM','GradientBoost']\n",
    "\n",
    "#Features\n",
    "Features = ['AngleRtildeI']#['Pri1','Pri2','Pri3']#['AngleRtildeI']#\n",
    "# Features = ['Eig1', 'Eig2', 'Eig3']\n",
    "#(list) list of features to be used options:\n",
    "#'Eig1','Eig2','Eig3','Pri1','Pri2','Pri3','Dev2','Dev3','Com','AngleRtildeI'\n",
    "#Eigenvalues, Principal invarients, Deviatoric invarients, Comutator, Angle between Rtilde and I\n",
    "\n",
    "#How many times would you like to train the model\n",
    "Bootstrap_Repetitions = 1\n",
    "#(int) how many times to train the model to obtain an average accuracy\n",
    "\n",
    "# use default levels of SNR\n",
    "SNR_array=[]\n",
    "\n",
    "# Make plot of first two reduced invairants\n",
    "Plot_Principal_Componenets = False\n",
    "\n",
    "Trainer_Settings = {\"DataSet_Name\": DataSet_Name, \"Load_External_Data\":Load_External_Data, \"Plot_Comparison_Figures\":Plot_Comparison_Figures,\\\n",
    "                   \"Full_Save\": Full_Save, \"Reduce_Features\":Reduce_Features, \"Models_to_run\": Models_to_run, \"Features\":Features, #\n",
    "                    \"Bootstrap_Repetitions\": Bootstrap_Repetitions, \"SNR_array\": SNR_array, \"Plot_Principal_Componenets\": Plot_Principal_Componenets }"
   ]
  },
  {
   "cell_type": "code",
   "execution_count": null,
   "id": "d510a2f5",
   "metadata": {},
   "outputs": [
    {
     "name": "stdout",
     "output_type": "stream",
     "text": [
      "Noise level =  5\n",
      "(2100, 1800)\n",
      "(2100, 102) (2100, 100)\n",
      "Data [[-7.17882174e-10 -8.64638757e-10 -1.04138375e-09 ...  1.49892604e-03\n",
      "   1.60823882e-03  1.69484805e-03]\n",
      " [-7.17882174e-10 -8.64638757e-10 -1.04138375e-09 ...  1.48784757e-03\n",
      "   1.59901332e-03  1.68791132e-03]\n",
      " [-7.17882174e-10 -8.64638757e-10 -1.04138375e-09 ...  1.20340745e-03\n",
      "   1.34373740e-03  1.47357426e-03]\n",
      " ...\n",
      " [-2.50859810e-13 -3.02184132e-13 -3.64004452e-13 ...  1.03883019e-06\n",
      "   1.58021576e-06  2.18943062e-06]\n",
      " [-2.50859810e-13 -3.02184132e-13 -3.64004452e-13 ...  1.28029645e-06\n",
      "   1.85256812e-06  2.46529896e-06]\n",
      " [-2.50859810e-13 -3.02184132e-13 -3.64004452e-13 ...  4.22617200e-07\n",
      "   7.41141729e-07  1.18411789e-06]]\n",
      "to here\n"
     ]
    },
    {
     "name": "stderr",
     "output_type": "stream",
     "text": [
      "/Users/pdl11/Coding/MPT-Classifier/MPT_Classifier/Functions/Noise_adder.py:30: RuntimeWarning: divide by zero encountered in log10\n",
      "  sig_db = 10 * np.log10(sig_watts)\n"
     ]
    },
    {
     "name": "stdout",
     "output_type": "stream",
     "text": [
      "LogisticRegression\n"
     ]
    },
    {
     "name": "stderr",
     "output_type": "stream",
     "text": [
      "/Users/pdl11/Coding/MPT-Classifier/MPT_Classifier/Functions/Plot_comparison_features.py:177: UserWarning: The palette list has more values (10) than needed (7), which may not be intended.\n",
      "  total_lineplot = sns.lineplot(data=internal_dataframe, x='omega',\n"
     ]
    },
    {
     "name": "stdout",
     "output_type": "stream",
     "text": [
      "Noise level =  10\n",
      "(2100, 1800)\n",
      "(2100, 102) (2100, 100)\n",
      "Data [[-7.17882174e-10 -8.64638757e-10 -1.04138375e-09 ...  1.49892604e-03\n",
      "   1.60823882e-03  1.69484805e-03]\n",
      " [-7.17882174e-10 -8.64638757e-10 -1.04138375e-09 ...  1.48784757e-03\n",
      "   1.59901332e-03  1.68791132e-03]\n",
      " [-7.17882174e-10 -8.64638757e-10 -1.04138375e-09 ...  1.20340745e-03\n",
      "   1.34373740e-03  1.47357426e-03]\n",
      " ...\n",
      " [-2.50859810e-13 -3.02184132e-13 -3.64004452e-13 ...  1.03883019e-06\n",
      "   1.58021576e-06  2.18943062e-06]\n",
      " [-2.50859810e-13 -3.02184132e-13 -3.64004452e-13 ...  1.28029645e-06\n",
      "   1.85256812e-06  2.46529896e-06]\n",
      " [-2.50859810e-13 -3.02184132e-13 -3.64004452e-13 ...  4.22617200e-07\n",
      "   7.41141729e-07  1.18411789e-06]]\n",
      "to here\n"
     ]
    },
    {
     "name": "stderr",
     "output_type": "stream",
     "text": [
      "/Users/pdl11/Coding/MPT-Classifier/MPT_Classifier/Functions/Noise_adder.py:30: RuntimeWarning: divide by zero encountered in log10\n",
      "  sig_db = 10 * np.log10(sig_watts)\n"
     ]
    },
    {
     "name": "stdout",
     "output_type": "stream",
     "text": [
      "LogisticRegression\n"
     ]
    },
    {
     "name": "stderr",
     "output_type": "stream",
     "text": [
      "/Users/pdl11/Coding/MPT-Classifier/MPT_Classifier/Functions/Plot_comparison_features.py:177: UserWarning: The palette list has more values (10) than needed (7), which may not be intended.\n",
      "  total_lineplot = sns.lineplot(data=internal_dataframe, x='omega',\n"
     ]
    },
    {
     "name": "stdout",
     "output_type": "stream",
     "text": [
      "Noise level =  15\n",
      "(2100, 1800)\n",
      "(2100, 102) (2100, 100)\n",
      "Data [[-7.17882174e-10 -8.64638757e-10 -1.04138375e-09 ...  1.49892604e-03\n",
      "   1.60823882e-03  1.69484805e-03]\n",
      " [-7.17882174e-10 -8.64638757e-10 -1.04138375e-09 ...  1.48784757e-03\n",
      "   1.59901332e-03  1.68791132e-03]\n",
      " [-7.17882174e-10 -8.64638757e-10 -1.04138375e-09 ...  1.20340745e-03\n",
      "   1.34373740e-03  1.47357426e-03]\n",
      " ...\n",
      " [-2.50859810e-13 -3.02184132e-13 -3.64004452e-13 ...  1.03883019e-06\n",
      "   1.58021576e-06  2.18943062e-06]\n",
      " [-2.50859810e-13 -3.02184132e-13 -3.64004452e-13 ...  1.28029645e-06\n",
      "   1.85256812e-06  2.46529896e-06]\n",
      " [-2.50859810e-13 -3.02184132e-13 -3.64004452e-13 ...  4.22617200e-07\n",
      "   7.41141729e-07  1.18411789e-06]]\n",
      "to here\n"
     ]
    },
    {
     "name": "stderr",
     "output_type": "stream",
     "text": [
      "/Users/pdl11/Coding/MPT-Classifier/MPT_Classifier/Functions/Noise_adder.py:30: RuntimeWarning: divide by zero encountered in log10\n",
      "  sig_db = 10 * np.log10(sig_watts)\n"
     ]
    },
    {
     "name": "stdout",
     "output_type": "stream",
     "text": [
      "LogisticRegression\n"
     ]
    },
    {
     "name": "stderr",
     "output_type": "stream",
     "text": [
      "/Users/pdl11/Coding/MPT-Classifier/MPT_Classifier/Functions/Plot_comparison_features.py:177: UserWarning: The palette list has more values (10) than needed (7), which may not be intended.\n",
      "  total_lineplot = sns.lineplot(data=internal_dataframe, x='omega',\n"
     ]
    },
    {
     "name": "stdout",
     "output_type": "stream",
     "text": [
      "Noise level =  20\n",
      "(2100, 1800)\n",
      "(2100, 102) (2100, 100)\n",
      "Data [[-7.17882174e-10 -8.64638757e-10 -1.04138375e-09 ...  1.49892604e-03\n",
      "   1.60823882e-03  1.69484805e-03]\n",
      " [-7.17882174e-10 -8.64638757e-10 -1.04138375e-09 ...  1.48784757e-03\n",
      "   1.59901332e-03  1.68791132e-03]\n",
      " [-7.17882174e-10 -8.64638757e-10 -1.04138375e-09 ...  1.20340745e-03\n",
      "   1.34373740e-03  1.47357426e-03]\n",
      " ...\n",
      " [-2.50859810e-13 -3.02184132e-13 -3.64004452e-13 ...  1.03883019e-06\n",
      "   1.58021576e-06  2.18943062e-06]\n",
      " [-2.50859810e-13 -3.02184132e-13 -3.64004452e-13 ...  1.28029645e-06\n",
      "   1.85256812e-06  2.46529896e-06]\n",
      " [-2.50859810e-13 -3.02184132e-13 -3.64004452e-13 ...  4.22617200e-07\n",
      "   7.41141729e-07  1.18411789e-06]]\n",
      "to here\n"
     ]
    },
    {
     "name": "stderr",
     "output_type": "stream",
     "text": [
      "/Users/pdl11/Coding/MPT-Classifier/MPT_Classifier/Functions/Noise_adder.py:30: RuntimeWarning: divide by zero encountered in log10\n",
      "  sig_db = 10 * np.log10(sig_watts)\n"
     ]
    },
    {
     "name": "stdout",
     "output_type": "stream",
     "text": [
      "LogisticRegression\n"
     ]
    },
    {
     "name": "stderr",
     "output_type": "stream",
     "text": [
      "/Users/pdl11/Coding/MPT-Classifier/MPT_Classifier/Functions/Plot_comparison_features.py:177: UserWarning: The palette list has more values (10) than needed (7), which may not be intended.\n",
      "  total_lineplot = sns.lineplot(data=internal_dataframe, x='omega',\n"
     ]
    },
    {
     "name": "stdout",
     "output_type": "stream",
     "text": [
      "Noise level =  40\n",
      "(2100, 1800)\n",
      "(2100, 102) (2100, 100)\n",
      "Data [[-7.17882174e-10 -8.64638757e-10 -1.04138375e-09 ...  1.49892604e-03\n",
      "   1.60823882e-03  1.69484805e-03]\n",
      " [-7.17882174e-10 -8.64638757e-10 -1.04138375e-09 ...  1.48784757e-03\n",
      "   1.59901332e-03  1.68791132e-03]\n",
      " [-7.17882174e-10 -8.64638757e-10 -1.04138375e-09 ...  1.20340745e-03\n",
      "   1.34373740e-03  1.47357426e-03]\n",
      " ...\n",
      " [-2.50859810e-13 -3.02184132e-13 -3.64004452e-13 ...  1.03883019e-06\n",
      "   1.58021576e-06  2.18943062e-06]\n",
      " [-2.50859810e-13 -3.02184132e-13 -3.64004452e-13 ...  1.28029645e-06\n",
      "   1.85256812e-06  2.46529896e-06]\n",
      " [-2.50859810e-13 -3.02184132e-13 -3.64004452e-13 ...  4.22617200e-07\n",
      "   7.41141729e-07  1.18411789e-06]]\n",
      "to here\n"
     ]
    },
    {
     "name": "stderr",
     "output_type": "stream",
     "text": [
      "/Users/pdl11/Coding/MPT-Classifier/MPT_Classifier/Functions/Noise_adder.py:30: RuntimeWarning: divide by zero encountered in log10\n",
      "  sig_db = 10 * np.log10(sig_watts)\n"
     ]
    },
    {
     "name": "stdout",
     "output_type": "stream",
     "text": [
      "LogisticRegression\n"
     ]
    },
    {
     "name": "stderr",
     "output_type": "stream",
     "text": [
      "/Users/pdl11/Coding/MPT-Classifier/MPT_Classifier/Functions/Plot_comparison_features.py:177: UserWarning: The palette list has more values (10) than needed (7), which may not be intended.\n",
      "  total_lineplot = sns.lineplot(data=internal_dataframe, x='omega',\n"
     ]
    }
   ],
   "source": [
    "from Trainer_PDL import *\n",
    "\n",
    "#main(DataSet_Name,Load_External_Data,Plot_Comparison_Figures,Full_Save,Reduce_Features,Models_to_run,Features,Bootstrap_Repetitions)\n",
    "main(Trainer_Settings)"
   ]
  },
  {
   "cell_type": "code",
   "execution_count": null,
   "id": "b28b5a58",
   "metadata": {},
   "outputs": [],
   "source": []
  },
  {
   "cell_type": "code",
   "execution_count": null,
   "id": "a27f4d7e-007a-470d-a072-3910c7c28cb2",
   "metadata": {},
   "outputs": [],
   "source": []
  }
 ],
 "metadata": {
  "kernelspec": {
   "display_name": "Python 3 (ipykernel)",
   "language": "python",
   "name": "python3"
  },
  "language_info": {
   "codemirror_mode": {
    "name": "ipython",
    "version": 3
   },
   "file_extension": ".py",
   "mimetype": "text/x-python",
   "name": "python",
   "nbconvert_exporter": "python",
   "pygments_lexer": "ipython3",
   "version": "3.8.19"
  }
 },
 "nbformat": 4,
 "nbformat_minor": 5
}
