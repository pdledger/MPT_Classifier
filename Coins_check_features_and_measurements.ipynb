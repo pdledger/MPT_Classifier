{
 "cells": [
  {
   "cell_type": "markdown",
   "id": "4d641378",
   "metadata": {},
   "source": [
    "The goal of this notebook is to produce a sequence of plots that indicate how well the computed features compare with\n",
    "the measured ones. We can only do this by considering a single set of measurements (ie one coin type) at a time\n",
    "**The first thing to do is to run Creator.py to setup the dataset. First specify the options**\n"
   ]
  },
  {
   "cell_type": "code",
   "execution_count": 1,
   "id": "2be154fc",
   "metadata": {},
   "outputs": [],
   "source": [
    "import numpy as np\n",
    "# The Name of the Dataset\n",
    "Name = \"British-Coins-Updated-1p-2p/Coins-100\"\n",
    "\n",
    "# Frequency Array\n",
    "Frequencies=np.array([119.25,178.875,238.5,298.125,357.75,477,596.25,715.5,954,1192.5,1431,1908,2385,2862,3816,4770,5724,7632,9540,12402,16218,20988,26712,34344,43884,57240,73458,95400])\n",
    "Frequencies = Frequencies*6.28 #Convert to rad/s'\n",
    "\n",
    "# Classes to Include\n",
    "Classes = [\"British_Coins_Updated_1p_2p\"]\n",
    "\n",
    "# Global number of results\n",
    "# Coin Problem\n",
    "extend_results = 'global_obj'\n",
    "\n",
    "# Number of secondary results if 'global_obj'\n",
    "\n",
    "#Coin Problem`\n",
    "Num_Results = 100\n",
    "\n",
    "# Classes if 'global_class' or 'classwise'\n",
    "class_split=[]\n",
    "\n",
    "# Name each of the classes this is done in order\n",
    "class_names = []\n",
    "\n",
    "# Number of results if 'global_class'\n",
    "Num_Results_class = []\n",
    "\n",
    "\n",
    "# (int) Number of results per class results per class if 'classwise'\n",
    "class_num_results = []\n",
    "\n",
    "#Labeler False,'Classwise', 'Objectwise'\n",
    "Label_Data = 'Objectwise'\n",
    "Name_Objects = True\n",
    "\n",
    "#(dictionary) name the objects as you wish them to appear in the classificaiton\n",
    "Object_Names_dictionary ={\"Two_Pound\":r\"£2\", \"Ten_Pence\":r\"10p_(new)\", \"Ten_Pence_non_magnetic\":r\"10p_(old)\", \"One_Pound\":r\"£1\", \"Two_Penny\":r\"2p_(new)\",\n",
    "                              \"Two_Penny_non_magnetic\":r\"2p_(old)\", \"Twenty_Pence\":r\"20p\", \"Five_Pence\":r\"5p_(new)\", \"Five_Pence_non_magnetic\":r\"5p_(old)\",\n",
    "                              \"Fifty_Pence\":r\"50p\", \"One_Penny\":r\"1p_(new)\", \"One_Penny_non_magnetic\":r\"1p_(old)\"}\n",
    "\n",
    "\n",
    "Name_Order = [\"One_Penny\",\"One_Penny_non_magnetic\",\"Two_Penny\",\"Two_Penny_non_magnetic\",\"Five_Pence\",\"Five_Pence_non_magnetic\",\n",
    "             \"Ten_Pence\",\"Ten_Pence_non_magnetic\",\"Twenty_Pence\",\"Fifty_Pence\",\"One_Pound\",\"Two_Pound\"]\n",
    "\n",
    "#How to scale\n",
    "Scale_type = 'Global'\n",
    "\n",
    "#Which file (This is not currently used)\n",
    "Scale_File = 'Coin_DataSet.csv'\n",
    "\n",
    "\n",
    "#Alpha scale\n",
    "Alpha_scale = 0.84\n",
    "\n",
    "#Sigma scale\n",
    "Sigma_scale = 12.5\n",
    "\n",
    "# Create a dictionary of these settings\n",
    "Creator_Settings = {\"Name\":Name,\"Frequencies\":Frequencies,\"Classes\":Classes,\"extend_results\":extend_results,\"Num_Results\":Num_Results,#\n",
    "                    \"class_split\":class_split,\"class_names\":class_names,\"Num_Results_class\":Num_Results_class,\"class_num_results\":class_num_results,\\\n",
    "                    \"Label_Data\":Label_Data,\"Name_Objects\":Name_Objects,\"Object_Names_dictionary\":Object_Names_dictionary,\"Name_Order\":Name_Order,\\\n",
    "                    \"Scale_type\":Scale_type,\"Scale_File\":Scale_File,\"Alpha_scale\":Alpha_scale,\"Sigma_scale\":Sigma_scale}"
   ]
  },
  {
   "cell_type": "code",
   "execution_count": 2,
   "id": "cf2c8608",
   "metadata": {},
   "outputs": [
    {
     "name": "stdout",
     "output_type": "stream",
     "text": [
      "The folder path to the dataset is: British-Coins-Updated-1p-2p/Coins-100_Al_0.84_Sig_12.5\n"
     ]
    }
   ],
   "source": [
    "# Run the Creator script\n",
    "from Creator import *\n",
    "DataSet_Name=Creator(Creator_Settings)"
   ]
  },
  {
   "cell_type": "code",
   "execution_count": 3,
   "id": "96be8df1",
   "metadata": {},
   "outputs": [
    {
     "name": "stdout",
     "output_type": "stream",
     "text": [
      "British-Coins-Updated-1p-2p/Coins-100_Al_0.84_Sig_12.5\n"
     ]
    }
   ],
   "source": [
    "# This is the dataset name to be used with the classifier\n",
    "print(DataSet_Name)"
   ]
  },
  {
   "cell_type": "markdown",
   "id": "fef06c04-5dd6-4f9e-bd45-322c5d837521",
   "metadata": {},
   "source": [
    "**An additional step is needed to supplement the class data with measurement data**"
   ]
  },
  {
   "cell_type": "code",
   "execution_count": 4,
   "id": "22be80a0-97ac-419e-ac33-f0c41a4ef799",
   "metadata": {},
   "outputs": [],
   "source": [
    "#\n",
    "\n",
    "# Provide a list of the filenames of the measurement data. \n",
    "#Note the ordering of the files should be the files should be the same as the Name_Order above\n",
    "filenames = [r'MeasurementData/LatestMeasurementData/One_Penny.xlsx']\n",
    "#,\n",
    "#             r'MeasurementData/LatestMeasurementData/One_Penny_non_magnetic.xlsx',\n",
    "#             r'MeasurementData/LatestMeasurementData/Two_Penny.xlsx',\n",
    "#             r'MeasurementData/LatestMeasurementData/Two_Penny_non_magnetic.xlsx',\n",
    "#             r'MeasurementData/LatestMeasurementData/Five_Pence.xlsx',\n",
    "#             r'MeasurementData/LatestMeasurementData/Five_Pence_non_magnetic.xlsx',\n",
    "#             r'MeasurementData/LatestMeasurementData/Ten_Pence.xlsx',\n",
    "#             r'MeasurementData/LatestMeasurementData/Ten_Pence_non_magnetic.xlsx',\n",
    "#             r'MeasurementData/LatestMeasurementData/Twenty_Pence.xlsx',\n",
    "#             r'MeasurementData/LatestMeasurementData/Fifty_Pence.xlsx',\n",
    "#             r'MeasurementData/LatestMeasurementData/One_Pound.xlsx',\n",
    "#             r'MeasurementData/LatestMeasurementData/Two_Pound.xlsx']\n",
    "\n",
    "# I have updated these to be integers\n",
    "classes = [0]#, 1, 2, 3, 4, 5, 6, 7, 8, 9, 10, 11]\n",
    "\n",
    "# List of features\n",
    "Features = ['Pri1', 'Pri2', 'Pri3']\n",
    "\n",
    "dataset_path = 'DataSets/'+DataSet_Name\n",
    "\n",
    "result_path = []\n",
    "\n",
    "plot_comparison = False\n",
    "\n",
    "Loader_Settings = {\"filenames\":filenames, \"classes\": classes, \"Features\": Features, \"dataset_path\": dataset_path, \"result_path\":result_path, \"plot_comparison\": plot_comparison  }\n"
   ]
  },
  {
   "cell_type": "code",
   "execution_count": 5,
   "id": "8225a7e8-df22-471e-9951-f318fea28e6d",
   "metadata": {},
   "outputs": [
    {
     "name": "stdout",
     "output_type": "stream",
     "text": [
      "4.84876315428955e-07+6.78655634086406e-08j\n",
      "4.78864496997827e-07+1.10335566893084e-07j\n",
      "4.69348370943943e-07+1.43500166817037e-07j\n",
      "4.54221752573998e-07+1.690337205676e-07j\n",
      "4.37081819125241e-07+1.99083637362485e-07j\n",
      "4.16012278743688e-07+2.40505585173715e-07j\n",
      "3.87560319965421e-07+2.8074970294538e-07j\n",
      "3.65190613636503e-07+3.18277381751761e-07j\n",
      "3.23829604702917e-07+3.85876067314539e-07j\n",
      "2.85462525099415e-07+4.46573685699378e-07j\n",
      "2.49126739668517e-07+5.04553663396808e-07j\n",
      "1.75526996452344e-07+6.12238187850299e-07j\n",
      "1.05430364331903e-07+7.1155455283165e-07j\n",
      "3.35603992051031e-08+8.00254875482221e-07j\n",
      "-1.08514656283392e-07+9.60185930537764e-07j\n",
      "-2.50192934135144e-07+1.09492746572466e-06j\n",
      "-3.93150232604178e-07+1.20891351290228e-06j\n",
      "-6.68364264788728e-07+1.3807074137536e-06j\n",
      "-9.24041933716952e-07+1.49506845926686e-06j\n",
      "-1.26558218868911e-06+1.59029184338831e-06j\n",
      "-1.63837447761832e-06+1.62840919489688e-06j\n",
      "-2.00131974265487e-06+1.60629810858485e-06j\n",
      "-2.32151372939109e-06+1.53727123670001e-06j\n",
      "-2.62983560085525e-06+1.41661523819911e-06j\n",
      "-2.88160431767201e-06+1.2703100819683e-06j\n",
      "-3.10779507130577e-06+1.10129465678266e-06j\n",
      "-3.27019288922873e-06+9.3316553556393e-07j\n",
      "-3.40762874174185e-06+7.78609396302561e-07j\n",
      "6.46262087279243e-06+2.77683535296677e-07j\n",
      "6.47349619896076e-06+4.04625174029324e-07j\n",
      "6.45911317282849e-06+5.23961071131019e-07j\n",
      "6.44119622498796e-06+6.44027616873948e-07j\n",
      "6.4050153827129e-06+7.51221334790147e-07j\n",
      "6.31644457996707e-06+9.22206529932129e-07j\n",
      "6.22244430826314e-06+1.09586723876153e-06j\n",
      "6.12527917250507e-06+1.24863351050338e-06j\n",
      "5.92140474775331e-06+1.52205189050403e-06j\n",
      "5.71215168138115e-06+1.74713059423561e-06j\n",
      "5.49886165977454e-06+1.93586325007442e-06j\n",
      "5.08321524145157e-06+2.22561635420789e-06j\n",
      "4.69145258702424e-06+2.42791760897918e-06j\n",
      "4.32928796370849e-06+2.57081483015136e-06j\n",
      "3.69771368691092e-06+2.72999808155026e-06j\n",
      "3.17267888345881e-06+2.7781875810045e-06j\n",
      "2.73578612776783e-06+2.76774961050599e-06j\n",
      "2.06559966215848e-06+2.65819392689069e-06j\n",
      "1.58497566890844e-06+2.50238001961725e-06j\n",
      "1.09108933181361e-06+2.26258204966469e-06j\n",
      "6.70171838943796e-07+1.98072945354473e-06j\n",
      "3.46872975922644e-07+1.70050636732877e-06j\n",
      "1.18015819369202e-07+1.438833307147e-06j\n",
      "-5.40567447488476e-08+1.20633638201521e-06j\n",
      "-1.84877643172682e-07+1.01036262550336e-06j\n",
      "-2.89685738063478e-07+8.18099138785118e-07j\n",
      "-3.66878221712562e-07+6.70398748254645e-07j\n",
      "-4.21326068023516e-07+5.32590981749934e-07j\n",
      "6.53920255012852e-06+2.84598074684277e-07j\n",
      "6.51957961379906e-06+4.18002294515795e-07j\n",
      "6.51138478031424e-06+5.32462869439341e-07j\n",
      "6.48977465296747e-06+6.29464156638752e-07j\n",
      "6.45715169212057e-06+7.35239249043984e-07j\n",
      "6.36779795678852e-06+9.40977616624287e-07j\n",
      "6.27711523441575e-06+1.11498748018219e-06j\n",
      "6.17810451784893e-06+1.27096074101818e-06j\n",
      "5.97770218323687e-06+1.5440605245355e-06j\n",
      "5.76534963197771e-06+1.7682777690457e-06j\n",
      "5.5516927328589e-06+1.95641798924452e-06j\n",
      "5.13583758868949e-06+2.24703473538163e-06j\n",
      "4.74174217180545e-06+2.44819697859904e-06j\n",
      "4.37993626998896e-06+2.58723859341588e-06j\n",
      "3.74682761035037e-06+2.74409458706113e-06j\n",
      "3.21922550201208e-06+2.79785958631033e-06j\n",
      "2.78000261131082e-06+2.78778952399269e-06j\n",
      "2.10045980358709e-06+2.67597915594861e-06j\n",
      "1.61864355229783e-06+2.52102715059874e-06j\n",
      "1.12218146285705e-06+2.27810327280642e-06j\n",
      "6.99022953463508e-07+1.99461402387721e-06j\n",
      "3.78722016624834e-07+1.71325002937633e-06j\n",
      "1.49455785155974e-07+1.46277055476448e-06j\n",
      "-3.27101376448992e-08+1.21829555053662e-06j\n",
      "-1.66546921696866e-07+1.00272463958959e-06j\n",
      "-2.57444419876701e-07+8.20110174802905e-07j\n",
      "-3.21348104209582e-07+6.62123545883515e-07j\n",
      "-3.55804735511566e-07+5.2722941824792e-07j\n"
     ]
    }
   ],
   "source": [
    "from external_file_loader import *\n",
    "external_file_loader(Loader_Settings)\n"
   ]
  },
  {
   "cell_type": "markdown",
   "id": "bb993227",
   "metadata": {},
   "source": [
    "**The next part involves running the actual classifier. This is done using Trainer_PDL.py**"
   ]
  },
  {
   "cell_type": "code",
   "execution_count": 6,
   "id": "adca0bb8",
   "metadata": {},
   "outputs": [],
   "source": [
    "# Option to load external testing data from disk. Requires that external_file_loader.py be run first.\n",
    "Load_External_Data = True \n",
    "# Option to plot comparison figures between the input array of simulated data and the external test data.\n",
    "# Currently only supported for a single class test set.\n",
    "Plot_Comparison_Figures = True\n",
    "# Option to additionally save to disk: the model for each bootstrap iteration, the normalisation coefficients for each,\n",
    "# bootstrap iteration, and the input array for each model, Used for debugging.\n",
    "Full_Save = False\n",
    "\n",
    "# Option to use SVD to reduce the number of features - we must turn this off for when doing a comparison of measured data\n",
    "Reduce_Features = False\n",
    "\n",
    "#Model to be used\n",
    "Models_to_run = [\"LogisticRegression\"] # select a simple classifier as the classification is turned off when doing the\n",
    "# the comparison plots\n",
    "\n",
    "#Features (already defined above)\n",
    "\n",
    "#How many times would you like to train the model\n",
    "Bootstrap_Repetitions = 1\n",
    "#(int) how many times to train the model to obtain an average accuracy\n",
    "\n",
    "# use default levels of SNR\n",
    "SNR_array=[]\n",
    "\n",
    "Trainer_Settings = {\"DataSet_Name\": DataSet_Name, \"Load_External_Data\":Load_External_Data, \"Plot_Comparison_Figures\":Plot_Comparison_Figures,\\\n",
    "                   \"Full_Save\": Full_Save, \"Reduce_Features\":Reduce_Features, \"Models_to_run\": Models_to_run, \"Features\":Features, \"Bootstrap_Repetitions\": Bootstrap_Repetitions, \"SNR_array\": SNR_array }"
   ]
  },
  {
   "cell_type": "code",
   "execution_count": 7,
   "id": "d510a2f5",
   "metadata": {},
   "outputs": [
    {
     "name": "stderr",
     "output_type": "stream",
     "text": [
      "2024-05-03 08:59:02.933340: I tensorflow/core/util/port.cc:110] oneDNN custom operations are on. You may see slightly different numerical results due to floating-point round-off errors from different computation orders. To turn them off, set the environment variable `TF_ENABLE_ONEDNN_OPTS=0`.\n",
      "2024-05-03 08:59:02.935150: I tensorflow/tsl/cuda/cudart_stub.cc:28] Could not find cuda drivers on your machine, GPU will not be used.\n",
      "2024-05-03 08:59:02.967513: I tensorflow/tsl/cuda/cudart_stub.cc:28] Could not find cuda drivers on your machine, GPU will not be used.\n",
      "2024-05-03 08:59:02.968363: I tensorflow/core/platform/cpu_feature_guard.cc:182] This TensorFlow binary is optimized to use available CPU instructions in performance-critical operations.\n",
      "To enable the following instructions: AVX2 AVX512F AVX512_VNNI FMA, in other operations, rebuild TensorFlow with the appropriate compiler flags.\n",
      "2024-05-03 08:59:03.549261: W tensorflow/compiler/tf2tensorrt/utils/py_utils.cc:38] TF-TRT Warning: Could not find TensorRT\n"
     ]
    },
    {
     "name": "stdout",
     "output_type": "stream",
     "text": [
      "Noise level =  5\n",
      "[1.25301783e-08 1.25079275e-08 1.10899328e-08 ... 3.96260755e-07\n",
      " 4.63629254e-07 5.19300943e-07]\n",
      "to here\n",
      "LogisticRegression\n",
      "(28,) (28,) (28,) (28,) (28,) (28,) (28,) (28,)\n"
     ]
    },
    {
     "name": "stderr",
     "output_type": "stream",
     "text": [
      "/home/paul/Coding/MPT_Classifier_Testing/MPT_Classifier/Functions/Plot_comparison_features.py:96: UserWarning: \n",
      "The palette list has fewer values (6) than needed (13) and will cycle, which may produce an uninterpretable plot.\n",
      "  total_lineplot = sns.lineplot(data=total_dataframe, x='omega',\n",
      "/home/paul/Coding/MPT_Classifier_Testing/MPT_Classifier/Functions/Plot_comparison_features.py:106: UserWarning: \n",
      "The palette list has fewer values (6) than needed (13) and will cycle, which may produce an uninterpretable plot.\n",
      "  total_lineplot = sns.lineplot(data=total_dataframe, x='omega',\n",
      "/home/paul/Coding/MPT_Classifier_Testing/MPT_Classifier/Functions/Plot_comparison_features.py:116: UserWarning: \n",
      "The palette list has fewer values (6) than needed (13) and will cycle, which may produce an uninterpretable plot.\n",
      "  total_lineplot = sns.lineplot(data=total_dataframe, x='omega',\n",
      "/home/paul/Coding/MPT_Classifier_Testing/MPT_Classifier/Functions/Plot_comparison_features.py:128: UserWarning: \n",
      "The palette list has fewer values (6) than needed (13) and will cycle, which may produce an uninterpretable plot.\n",
      "  total_lineplot = sns.lineplot(data=total_dataframe, x='omega',\n",
      "/home/paul/Coding/MPT_Classifier_Testing/MPT_Classifier/Functions/Plot_comparison_features.py:139: UserWarning: \n",
      "The palette list has fewer values (6) than needed (13) and will cycle, which may produce an uninterpretable plot.\n",
      "  total_lineplot = sns.lineplot(data=total_dataframe, x='omega',\n",
      "/home/paul/Coding/MPT_Classifier_Testing/MPT_Classifier/Functions/Plot_comparison_features.py:151: UserWarning: \n",
      "The palette list has fewer values (6) than needed (13) and will cycle, which may produce an uninterpretable plot.\n",
      "  total_lineplot = sns.lineplot(data=total_dataframe, x='omega',\n"
     ]
    },
    {
     "name": "stdout",
     "output_type": "stream",
     "text": [
      "Noise level =  10\n",
      "[1.25301783e-08 1.25079275e-08 1.10899328e-08 ... 3.96260755e-07\n",
      " 4.63629254e-07 5.19300943e-07]\n",
      "to here\n",
      "LogisticRegression\n",
      "(28,) (28,) (28,) (28,) (28,) (28,) (28,) (28,)\n"
     ]
    },
    {
     "name": "stderr",
     "output_type": "stream",
     "text": [
      "/home/paul/Coding/MPT_Classifier_Testing/MPT_Classifier/Functions/Plot_comparison_features.py:96: UserWarning: \n",
      "The palette list has fewer values (6) than needed (13) and will cycle, which may produce an uninterpretable plot.\n",
      "  total_lineplot = sns.lineplot(data=total_dataframe, x='omega',\n",
      "/home/paul/Coding/MPT_Classifier_Testing/MPT_Classifier/Functions/Plot_comparison_features.py:106: UserWarning: \n",
      "The palette list has fewer values (6) than needed (13) and will cycle, which may produce an uninterpretable plot.\n",
      "  total_lineplot = sns.lineplot(data=total_dataframe, x='omega',\n",
      "/home/paul/Coding/MPT_Classifier_Testing/MPT_Classifier/Functions/Plot_comparison_features.py:116: UserWarning: \n",
      "The palette list has fewer values (6) than needed (13) and will cycle, which may produce an uninterpretable plot.\n",
      "  total_lineplot = sns.lineplot(data=total_dataframe, x='omega',\n",
      "/home/paul/Coding/MPT_Classifier_Testing/MPT_Classifier/Functions/Plot_comparison_features.py:128: UserWarning: \n",
      "The palette list has fewer values (6) than needed (13) and will cycle, which may produce an uninterpretable plot.\n",
      "  total_lineplot = sns.lineplot(data=total_dataframe, x='omega',\n",
      "/home/paul/Coding/MPT_Classifier_Testing/MPT_Classifier/Functions/Plot_comparison_features.py:139: UserWarning: \n",
      "The palette list has fewer values (6) than needed (13) and will cycle, which may produce an uninterpretable plot.\n",
      "  total_lineplot = sns.lineplot(data=total_dataframe, x='omega',\n",
      "/home/paul/Coding/MPT_Classifier_Testing/MPT_Classifier/Functions/Plot_comparison_features.py:151: UserWarning: \n",
      "The palette list has fewer values (6) than needed (13) and will cycle, which may produce an uninterpretable plot.\n",
      "  total_lineplot = sns.lineplot(data=total_dataframe, x='omega',\n"
     ]
    },
    {
     "name": "stdout",
     "output_type": "stream",
     "text": [
      "Noise level =  15\n",
      "[1.25301783e-08 1.25079275e-08 1.10899328e-08 ... 3.96260755e-07\n",
      " 4.63629254e-07 5.19300943e-07]\n",
      "to here\n",
      "LogisticRegression\n",
      "(28,) (28,) (28,) (28,) (28,) (28,) (28,) (28,)\n"
     ]
    },
    {
     "name": "stderr",
     "output_type": "stream",
     "text": [
      "/home/paul/Coding/MPT_Classifier_Testing/MPT_Classifier/Functions/Plot_comparison_features.py:96: UserWarning: \n",
      "The palette list has fewer values (6) than needed (13) and will cycle, which may produce an uninterpretable plot.\n",
      "  total_lineplot = sns.lineplot(data=total_dataframe, x='omega',\n",
      "/home/paul/Coding/MPT_Classifier_Testing/MPT_Classifier/Functions/Plot_comparison_features.py:106: UserWarning: \n",
      "The palette list has fewer values (6) than needed (13) and will cycle, which may produce an uninterpretable plot.\n",
      "  total_lineplot = sns.lineplot(data=total_dataframe, x='omega',\n",
      "/home/paul/Coding/MPT_Classifier_Testing/MPT_Classifier/Functions/Plot_comparison_features.py:116: UserWarning: \n",
      "The palette list has fewer values (6) than needed (13) and will cycle, which may produce an uninterpretable plot.\n",
      "  total_lineplot = sns.lineplot(data=total_dataframe, x='omega',\n",
      "/home/paul/Coding/MPT_Classifier_Testing/MPT_Classifier/Functions/Plot_comparison_features.py:128: UserWarning: \n",
      "The palette list has fewer values (6) than needed (13) and will cycle, which may produce an uninterpretable plot.\n",
      "  total_lineplot = sns.lineplot(data=total_dataframe, x='omega',\n",
      "/home/paul/Coding/MPT_Classifier_Testing/MPT_Classifier/Functions/Plot_comparison_features.py:139: UserWarning: \n",
      "The palette list has fewer values (6) than needed (13) and will cycle, which may produce an uninterpretable plot.\n",
      "  total_lineplot = sns.lineplot(data=total_dataframe, x='omega',\n",
      "/home/paul/Coding/MPT_Classifier_Testing/MPT_Classifier/Functions/Plot_comparison_features.py:151: UserWarning: \n",
      "The palette list has fewer values (6) than needed (13) and will cycle, which may produce an uninterpretable plot.\n",
      "  total_lineplot = sns.lineplot(data=total_dataframe, x='omega',\n"
     ]
    },
    {
     "name": "stdout",
     "output_type": "stream",
     "text": [
      "Noise level =  20\n",
      "[1.25301783e-08 1.25079275e-08 1.10899328e-08 ... 3.96260755e-07\n",
      " 4.63629254e-07 5.19300943e-07]\n",
      "to here\n",
      "LogisticRegression\n",
      "(28,) (28,) (28,) (28,) (28,) (28,) (28,) (28,)\n"
     ]
    },
    {
     "name": "stderr",
     "output_type": "stream",
     "text": [
      "/home/paul/Coding/MPT_Classifier_Testing/MPT_Classifier/Functions/Plot_comparison_features.py:96: UserWarning: \n",
      "The palette list has fewer values (6) than needed (13) and will cycle, which may produce an uninterpretable plot.\n",
      "  total_lineplot = sns.lineplot(data=total_dataframe, x='omega',\n",
      "/home/paul/Coding/MPT_Classifier_Testing/MPT_Classifier/Functions/Plot_comparison_features.py:106: UserWarning: \n",
      "The palette list has fewer values (6) than needed (13) and will cycle, which may produce an uninterpretable plot.\n",
      "  total_lineplot = sns.lineplot(data=total_dataframe, x='omega',\n",
      "/home/paul/Coding/MPT_Classifier_Testing/MPT_Classifier/Functions/Plot_comparison_features.py:116: UserWarning: \n",
      "The palette list has fewer values (6) than needed (13) and will cycle, which may produce an uninterpretable plot.\n",
      "  total_lineplot = sns.lineplot(data=total_dataframe, x='omega',\n",
      "/home/paul/Coding/MPT_Classifier_Testing/MPT_Classifier/Functions/Plot_comparison_features.py:128: UserWarning: \n",
      "The palette list has fewer values (6) than needed (13) and will cycle, which may produce an uninterpretable plot.\n",
      "  total_lineplot = sns.lineplot(data=total_dataframe, x='omega',\n",
      "/home/paul/Coding/MPT_Classifier_Testing/MPT_Classifier/Functions/Plot_comparison_features.py:139: UserWarning: \n",
      "The palette list has fewer values (6) than needed (13) and will cycle, which may produce an uninterpretable plot.\n",
      "  total_lineplot = sns.lineplot(data=total_dataframe, x='omega',\n",
      "/home/paul/Coding/MPT_Classifier_Testing/MPT_Classifier/Functions/Plot_comparison_features.py:151: UserWarning: \n",
      "The palette list has fewer values (6) than needed (13) and will cycle, which may produce an uninterpretable plot.\n",
      "  total_lineplot = sns.lineplot(data=total_dataframe, x='omega',\n"
     ]
    },
    {
     "name": "stdout",
     "output_type": "stream",
     "text": [
      "Noise level =  40\n",
      "[1.25301783e-08 1.25079275e-08 1.10899328e-08 ... 3.96260755e-07\n",
      " 4.63629254e-07 5.19300943e-07]\n",
      "to here\n",
      "LogisticRegression\n",
      "(28,) (28,) (28,) (28,) (28,) (28,) (28,) (28,)\n"
     ]
    },
    {
     "name": "stderr",
     "output_type": "stream",
     "text": [
      "/home/paul/Coding/MPT_Classifier_Testing/MPT_Classifier/Functions/Plot_comparison_features.py:96: UserWarning: \n",
      "The palette list has fewer values (6) than needed (13) and will cycle, which may produce an uninterpretable plot.\n",
      "  total_lineplot = sns.lineplot(data=total_dataframe, x='omega',\n",
      "/home/paul/Coding/MPT_Classifier_Testing/MPT_Classifier/Functions/Plot_comparison_features.py:106: UserWarning: \n",
      "The palette list has fewer values (6) than needed (13) and will cycle, which may produce an uninterpretable plot.\n",
      "  total_lineplot = sns.lineplot(data=total_dataframe, x='omega',\n",
      "/home/paul/Coding/MPT_Classifier_Testing/MPT_Classifier/Functions/Plot_comparison_features.py:116: UserWarning: \n",
      "The palette list has fewer values (6) than needed (13) and will cycle, which may produce an uninterpretable plot.\n",
      "  total_lineplot = sns.lineplot(data=total_dataframe, x='omega',\n",
      "/home/paul/Coding/MPT_Classifier_Testing/MPT_Classifier/Functions/Plot_comparison_features.py:128: UserWarning: \n",
      "The palette list has fewer values (6) than needed (13) and will cycle, which may produce an uninterpretable plot.\n",
      "  total_lineplot = sns.lineplot(data=total_dataframe, x='omega',\n",
      "/home/paul/Coding/MPT_Classifier_Testing/MPT_Classifier/Functions/Plot_comparison_features.py:139: UserWarning: \n",
      "The palette list has fewer values (6) than needed (13) and will cycle, which may produce an uninterpretable plot.\n",
      "  total_lineplot = sns.lineplot(data=total_dataframe, x='omega',\n",
      "/home/paul/Coding/MPT_Classifier_Testing/MPT_Classifier/Functions/Plot_comparison_features.py:151: UserWarning: \n",
      "The palette list has fewer values (6) than needed (13) and will cycle, which may produce an uninterpretable plot.\n",
      "  total_lineplot = sns.lineplot(data=total_dataframe, x='omega',\n"
     ]
    }
   ],
   "source": [
    "from Trainer_PDL import *\n",
    "\n",
    "main(Trainer_Settings)"
   ]
  },
  {
   "cell_type": "code",
   "execution_count": null,
   "id": "b28b5a58",
   "metadata": {},
   "outputs": [],
   "source": []
  },
  {
   "cell_type": "code",
   "execution_count": null,
   "id": "e1d79aec-9c93-4eb2-85f3-ae9a64bd9aa7",
   "metadata": {},
   "outputs": [],
   "source": []
  }
 ],
 "metadata": {
  "kernelspec": {
   "display_name": "Python 3 (ipykernel)",
   "language": "python",
   "name": "python3"
  },
  "language_info": {
   "codemirror_mode": {
    "name": "ipython",
    "version": 3
   },
   "file_extension": ".py",
   "mimetype": "text/x-python",
   "name": "python",
   "nbconvert_exporter": "python",
   "pygments_lexer": "ipython3",
   "version": "3.8.19"
  }
 },
 "nbformat": 4,
 "nbformat_minor": 5
}
